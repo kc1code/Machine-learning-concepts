{
  "nbformat": 4,
  "nbformat_minor": 0,
  "metadata": {
    "colab": {
      "provenance": [],
      "authorship_tag": "ABX9TyNU09KIeUCYpcsiaWP6vg1x",
      "include_colab_link": true
    },
    "kernelspec": {
      "name": "python3",
      "display_name": "Python 3"
    },
    "language_info": {
      "name": "python"
    }
  },
  "cells": [
    {
      "cell_type": "markdown",
      "metadata": {
        "id": "view-in-github",
        "colab_type": "text"
      },
      "source": [
        "<a href=\"https://colab.research.google.com/github/kc1code/Machine-learning-concepts/blob/main/Building_perceptron.ipynb\" target=\"_parent\"><img src=\"https://colab.research.google.com/assets/colab-badge.svg\" alt=\"Open In Colab\"/></a>"
      ]
    },
    {
      "cell_type": "code",
      "execution_count": 1,
      "metadata": {
        "id": "zpN9O2gMuISG"
      },
      "outputs": [],
      "source": [
        "import numpy as np"
      ]
    },
    {
      "cell_type": "markdown",
      "source": [
        "Perceptron Class -- Sigmoid Perceptron\n"
      ],
      "metadata": {
        "id": "H4tuzF_AvAil"
      }
    },
    {
      "cell_type": "code",
      "source": [
        "class SigmoidPerceptron():\n",
        "\n",
        "  def __init__(self, input_size):\n",
        "\n",
        "    self.weights = np.random.randn(input_size)\n",
        "    self.bias = np.random.randn(1)\n",
        "\n",
        "\n",
        "  def sigmoid(self, z):\n",
        "    return 1 / (1 + np.exp(-z))\n",
        "\n",
        "  def predict(self, inputs):\n",
        "    weighted_sum = np.dot(inputs, self.weights) + self.bias\n",
        "    return self.sigmoid(weighted_sum)\n",
        "\n",
        "\n",
        "  def fit(self, inputs, targets, learning_rate, num_epochs):\n",
        "    num_example = inputs.shape[0]\n",
        "    for num_epoch in range(num_epochs):\n",
        "      for i in range(num_epoch):\n",
        "        input_vector = inputs[i]\n",
        "        target = targets[i]\n",
        "        prediction = self.predict(input_vector)\n",
        "        error = target - prediction\n",
        "\n",
        "        # update weight\n",
        "        gradient_weight = error * prediction * (1 - prediction) * input_vector\n",
        "        self.weights += learning_rate * gradient_weight\n",
        "\n",
        "        # update bias\n",
        "        gradient_bias = error * prediction * (1 - prediction)\n",
        "        self.bias += learning_rate * gradient_bias\n",
        "\n",
        "\n",
        "  def evaluate(self, inputs, targets):\n",
        "    correct = 0\n",
        "    for input_vector, target in zip(inputs, targets):\n",
        "      prediction = self.predict(input_vector)\n",
        "      if prediction >= 0.5:\n",
        "         predicted_class = 1\n",
        "      else:\n",
        "        predicted_class = 0\n",
        "\n",
        "      if predicted_class == target:\n",
        "        correct += 1\n",
        "\n",
        "      accuracy = correct / len(inputs)     #accuracy = no of correct prediction / total no of data points\n",
        "      return accuracy\n"
      ],
      "metadata": {
        "id": "4xnDXxkXu-4C"
      },
      "execution_count": 2,
      "outputs": []
    },
    {
      "cell_type": "code",
      "source": [],
      "metadata": {
        "id": "T4U_a6MzqfRt"
      },
      "execution_count": null,
      "outputs": []
    }
  ]
}