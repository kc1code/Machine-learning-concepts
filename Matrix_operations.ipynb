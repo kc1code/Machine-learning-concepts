{
  "nbformat": 4,
  "nbformat_minor": 0,
  "metadata": {
    "colab": {
      "provenance": [],
      "authorship_tag": "ABX9TyNZiWMiN5A9NvF+mNx6Bf0N",
      "include_colab_link": true
    },
    "kernelspec": {
      "name": "python3",
      "display_name": "Python 3"
    },
    "language_info": {
      "name": "python"
    }
  },
  "cells": [
    {
      "cell_type": "markdown",
      "metadata": {
        "id": "view-in-github",
        "colab_type": "text"
      },
      "source": [
        "<a href=\"https://colab.research.google.com/github/kc1code/Machine-learning-concepts/blob/main/Matrix_operations.ipynb\" target=\"_parent\"><img src=\"https://colab.research.google.com/assets/colab-badge.svg\" alt=\"Open In Colab\"/></a>"
      ]
    },
    {
      "cell_type": "code",
      "execution_count": null,
      "metadata": {
        "id": "l6iodM08meSu"
      },
      "outputs": [],
      "source": [
        "import numpy as np"
      ]
    },
    {
      "cell_type": "markdown",
      "source": [
        "creating matrix using numpy"
      ],
      "metadata": {
        "id": "60TlcOFdpN0S"
      }
    },
    {
      "cell_type": "code",
      "source": [
        "matrix_1 = np.array([[2, 3], [6, 7]])\n",
        "print(matrix_1)"
      ],
      "metadata": {
        "colab": {
          "base_uri": "https://localhost:8080/"
        },
        "id": "KexogQXipDXj",
        "outputId": "16e2bb43-b340-48e9-f271-45cc5bd9b271"
      },
      "execution_count": null,
      "outputs": [
        {
          "output_type": "stream",
          "name": "stdout",
          "text": [
            "[[2 3]\n",
            " [6 7]]\n"
          ]
        }
      ]
    },
    {
      "cell_type": "code",
      "source": [
        "matrix_1.shape"
      ],
      "metadata": {
        "colab": {
          "base_uri": "https://localhost:8080/"
        },
        "id": "bXxWq76Opg9U",
        "outputId": "76f5e649-fe43-4b74-8d37-1e847df40a27"
      },
      "execution_count": null,
      "outputs": [
        {
          "output_type": "execute_result",
          "data": {
            "text/plain": [
              "(2, 2)"
            ]
          },
          "metadata": {},
          "execution_count": 5
        }
      ]
    },
    {
      "cell_type": "code",
      "source": [
        "matrix_2 = np.array([[10, 20, 30], [44, 63, 45], [20, 53, 89]])\n",
        "print(matrix_2)"
      ],
      "metadata": {
        "colab": {
          "base_uri": "https://localhost:8080/"
        },
        "id": "HLYL8XxDpufa",
        "outputId": "ea4df562-6053-447a-d3ec-17df394178c5"
      },
      "execution_count": null,
      "outputs": [
        {
          "output_type": "stream",
          "name": "stdout",
          "text": [
            "[[10 20 30]\n",
            " [44 63 45]\n",
            " [20 53 89]]\n"
          ]
        }
      ]
    },
    {
      "cell_type": "code",
      "source": [
        "matrix_2.shape"
      ],
      "metadata": {
        "colab": {
          "base_uri": "https://localhost:8080/"
        },
        "id": "p1K3Sld1qFl0",
        "outputId": "517e3c31-ec71-4ba1-baa0-8894bfe843da"
      },
      "execution_count": null,
      "outputs": [
        {
          "output_type": "execute_result",
          "data": {
            "text/plain": [
              "(3, 3)"
            ]
          },
          "metadata": {},
          "execution_count": 7
        }
      ]
    },
    {
      "cell_type": "markdown",
      "source": [
        "creating matrices with random values"
      ],
      "metadata": {
        "id": "sU7rNyg_qKx0"
      }
    },
    {
      "cell_type": "code",
      "source": [
        "random_matrix = np.random.rand(3, 3)\n",
        "print(random_matrix)"
      ],
      "metadata": {
        "colab": {
          "base_uri": "https://localhost:8080/"
        },
        "id": "ApdtPw8sqJGH",
        "outputId": "2ffca260-d446-43b6-d5f2-4697087532b2"
      },
      "execution_count": null,
      "outputs": [
        {
          "output_type": "stream",
          "name": "stdout",
          "text": [
            "[[0.23632443 0.77231493 0.07310315]\n",
            " [0.16533855 0.56127038 0.34611016]\n",
            " [0.90460717 0.82566254 0.45644531]]\n"
          ]
        }
      ]
    },
    {
      "cell_type": "markdown",
      "source": [
        "creating matrix with random integer"
      ],
      "metadata": {
        "id": "_aC3LAXCqpSw"
      }
    },
    {
      "cell_type": "code",
      "source": [
        "random_int_matrix = np.random.randint(100, size=(4, 5))      #100 heare define that how much values it can take ...here up to 100 any random no can be taken\n",
        "print(random_int_matrix)"
      ],
      "metadata": {
        "colab": {
          "base_uri": "https://localhost:8080/"
        },
        "id": "ZgbC0jMrqfip",
        "outputId": "094a2752-c8c0-4c5f-b580-314122ddd3eb"
      },
      "execution_count": null,
      "outputs": [
        {
          "output_type": "stream",
          "name": "stdout",
          "text": [
            "[[31 56 31 79  8]\n",
            " [98 66 82 97 34]\n",
            " [60 61 49 87 47]\n",
            " [ 6 79 65 63 88]]\n"
          ]
        }
      ]
    },
    {
      "cell_type": "markdown",
      "source": [
        "matrix with all values as 1"
      ],
      "metadata": {
        "id": "PXUzrgCHrWMj"
      }
    },
    {
      "cell_type": "code",
      "source": [
        "matrix_3 = np.ones((5,6))\n",
        "print(matrix_3)"
      ],
      "metadata": {
        "colab": {
          "base_uri": "https://localhost:8080/"
        },
        "id": "meQ7_PA5q-ci",
        "outputId": "f31ac91f-9646-42e6-e041-4c47c9111d0a"
      },
      "execution_count": null,
      "outputs": [
        {
          "output_type": "stream",
          "name": "stdout",
          "text": [
            "[[1. 1. 1. 1. 1. 1.]\n",
            " [1. 1. 1. 1. 1. 1.]\n",
            " [1. 1. 1. 1. 1. 1.]\n",
            " [1. 1. 1. 1. 1. 1.]\n",
            " [1. 1. 1. 1. 1. 1.]]\n"
          ]
        }
      ]
    },
    {
      "cell_type": "code",
      "source": [
        "matrix_3 = np.ones((2,3), dtype=int)\n",
        "print(matrix_3)"
      ],
      "metadata": {
        "colab": {
          "base_uri": "https://localhost:8080/"
        },
        "id": "u-wDnAourPIp",
        "outputId": "1b063f24-95f6-4ec7-8f7d-4bb5c865d6d0"
      },
      "execution_count": null,
      "outputs": [
        {
          "output_type": "stream",
          "name": "stdout",
          "text": [
            "[[1 1 1]\n",
            " [1 1 1]]\n"
          ]
        }
      ]
    },
    {
      "cell_type": "markdown",
      "source": [
        "Null matrix or zero matrix"
      ],
      "metadata": {
        "id": "Sk2nw81kr4as"
      }
    },
    {
      "cell_type": "code",
      "source": [
        "null_matrix = np.zeros((3,4))\n",
        "print(null_matrix)"
      ],
      "metadata": {
        "colab": {
          "base_uri": "https://localhost:8080/"
        },
        "id": "Fa2JIk2Jr2il",
        "outputId": "6bbb9845-f62b-4062-b994-ab7e4e8de7a9"
      },
      "execution_count": null,
      "outputs": [
        {
          "output_type": "stream",
          "name": "stdout",
          "text": [
            "[[0. 0. 0. 0.]\n",
            " [0. 0. 0. 0.]\n",
            " [0. 0. 0. 0.]]\n"
          ]
        }
      ]
    },
    {
      "cell_type": "markdown",
      "source": [
        "Identity matrix"
      ],
      "metadata": {
        "id": "P92drBMrsOHE"
      }
    },
    {
      "cell_type": "code",
      "source": [
        "identity_matrix = np.eye(2,3)\n",
        "print(identity_matrix)"
      ],
      "metadata": {
        "colab": {
          "base_uri": "https://localhost:8080/"
        },
        "id": "cKwXnXUhr8--",
        "outputId": "86ed25a9-059b-4343-f18f-93f04e5dcc2d"
      },
      "execution_count": null,
      "outputs": [
        {
          "output_type": "stream",
          "name": "stdout",
          "text": [
            "[[1. 0. 0.]\n",
            " [0. 1. 0.]]\n"
          ]
        }
      ]
    },
    {
      "cell_type": "markdown",
      "source": [
        "transpose of a matrix"
      ],
      "metadata": {
        "id": "b-neNkN_swHq"
      }
    },
    {
      "cell_type": "code",
      "source": [
        "b = np.random.randint(100, size=(3, 4))\n",
        "print(b)"
      ],
      "metadata": {
        "colab": {
          "base_uri": "https://localhost:8080/"
        },
        "id": "-eeCJYyIseC_",
        "outputId": "3bb1ad66-a9cf-4737-eb38-bde0ef3b3cbc"
      },
      "execution_count": null,
      "outputs": [
        {
          "output_type": "stream",
          "name": "stdout",
          "text": [
            "[[35 59 92 63]\n",
            " [72 89 94 87]\n",
            " [84 14  0 81]]\n"
          ]
        }
      ]
    },
    {
      "cell_type": "code",
      "source": [
        "transpose_of_b = np.transpose(b)\n",
        "print(transpose_of_b)"
      ],
      "metadata": {
        "colab": {
          "base_uri": "https://localhost:8080/"
        },
        "id": "F52Vw3NStI9p",
        "outputId": "69b783f5-a693-428a-966e-4102cd2992da"
      },
      "execution_count": null,
      "outputs": [
        {
          "output_type": "stream",
          "name": "stdout",
          "text": [
            "[[35 72 84]\n",
            " [59 89 14]\n",
            " [92 94  0]\n",
            " [63 87 81]]\n"
          ]
        }
      ]
    },
    {
      "cell_type": "markdown",
      "source": [
        "Importing numpy library"
      ],
      "metadata": {
        "id": "vhymZJIAEh0j"
      }
    },
    {
      "cell_type": "code",
      "source": [
        "import numpy as np"
      ],
      "metadata": {
        "id": "Rv_6YCNEtXHO"
      },
      "execution_count": 1,
      "outputs": []
    },
    {
      "cell_type": "markdown",
      "source": [
        "**Matrix** **Addition**"
      ],
      "metadata": {
        "id": "rrEX3W5XEuef"
      }
    },
    {
      "cell_type": "markdown",
      "source": [
        "two martix can only be added if they have same shape"
      ],
      "metadata": {
        "id": "YJYcjYiKE6h4"
      }
    },
    {
      "cell_type": "code",
      "source": [
        "#creating two matrices\n",
        "A = np.array([[2, 3], [4, 5]])\n",
        "B = np.array([[6, 7], [8, 9]])"
      ],
      "metadata": {
        "id": "kVnyjbYbEmtz"
      },
      "execution_count": 2,
      "outputs": []
    },
    {
      "cell_type": "code",
      "source": [
        "print(A)"
      ],
      "metadata": {
        "colab": {
          "base_uri": "https://localhost:8080/"
        },
        "id": "enHDbE-_FllQ",
        "outputId": "e610188f-b74d-49bb-cb4c-2383ab7dce9d"
      },
      "execution_count": 3,
      "outputs": [
        {
          "output_type": "stream",
          "name": "stdout",
          "text": [
            "[[2 3]\n",
            " [4 5]]\n"
          ]
        }
      ]
    },
    {
      "cell_type": "code",
      "source": [
        "print(B)"
      ],
      "metadata": {
        "colab": {
          "base_uri": "https://localhost:8080/"
        },
        "id": "dQ-yf9X0FmxT",
        "outputId": "79ae5875-2a04-4cf9-ec78-37306f670248"
      },
      "execution_count": 4,
      "outputs": [
        {
          "output_type": "stream",
          "name": "stdout",
          "text": [
            "[[6 7]\n",
            " [8 9]]\n"
          ]
        }
      ]
    },
    {
      "cell_type": "code",
      "source": [
        "A.shape"
      ],
      "metadata": {
        "colab": {
          "base_uri": "https://localhost:8080/"
        },
        "id": "zOA0CzU1FoMw",
        "outputId": "47d51d15-f9d5-457e-d34b-7364dbbc1a20"
      },
      "execution_count": 5,
      "outputs": [
        {
          "output_type": "execute_result",
          "data": {
            "text/plain": [
              "(2, 2)"
            ]
          },
          "metadata": {},
          "execution_count": 5
        }
      ]
    },
    {
      "cell_type": "code",
      "source": [
        "B.shape"
      ],
      "metadata": {
        "colab": {
          "base_uri": "https://localhost:8080/"
        },
        "id": "4RYvkXUPFpdX",
        "outputId": "67441273-02b0-40e8-b9ea-8bbe337aa5c0"
      },
      "execution_count": 6,
      "outputs": [
        {
          "output_type": "execute_result",
          "data": {
            "text/plain": [
              "(2, 2)"
            ]
          },
          "metadata": {},
          "execution_count": 6
        }
      ]
    },
    {
      "cell_type": "markdown",
      "source": [
        "Adding the matrices"
      ],
      "metadata": {
        "id": "X3cg31mwFsC0"
      }
    },
    {
      "cell_type": "code",
      "source": [
        "sum = A+B\n",
        "print(sum)"
      ],
      "metadata": {
        "colab": {
          "base_uri": "https://localhost:8080/"
        },
        "id": "hEpjHiXQFrGM",
        "outputId": "b65704b9-8ced-4a86-c8df-31d41575806b"
      },
      "execution_count": 7,
      "outputs": [
        {
          "output_type": "stream",
          "name": "stdout",
          "text": [
            "[[ 8 10]\n",
            " [12 14]]\n"
          ]
        }
      ]
    },
    {
      "cell_type": "code",
      "source": [
        "#creating two values with random numbers\n",
        "matrix_1 = np.random.randint(50, size=(3,4))\n",
        "matrix_2 = np.random.randint(50, size=(3,4))\n",
        "print(matrix_1)"
      ],
      "metadata": {
        "colab": {
          "base_uri": "https://localhost:8080/"
        },
        "id": "rc9JGp2YF2gj",
        "outputId": "7ba6a300-8ba0-494e-e612-c5abe597cc9f"
      },
      "execution_count": 15,
      "outputs": [
        {
          "output_type": "stream",
          "name": "stdout",
          "text": [
            "[[ 4 17 16 44]\n",
            " [15  4 48 12]\n",
            " [ 4 27 21 42]]\n"
          ]
        }
      ]
    },
    {
      "cell_type": "code",
      "source": [
        "print(matrix_2)"
      ],
      "metadata": {
        "colab": {
          "base_uri": "https://localhost:8080/"
        },
        "id": "6bMNX3kJGNcK",
        "outputId": "fc9a9e3d-bcaf-430c-cd93-8c78a914d8af"
      },
      "execution_count": 16,
      "outputs": [
        {
          "output_type": "stream",
          "name": "stdout",
          "text": [
            "[[39 33 46 46]\n",
            " [36 18 39  1]\n",
            " [45 34 21  6]]\n"
          ]
        }
      ]
    },
    {
      "cell_type": "code",
      "source": [
        "sum = matrix_1 + matrix_2\n",
        "print(sum)"
      ],
      "metadata": {
        "colab": {
          "base_uri": "https://localhost:8080/"
        },
        "id": "ojae5qRMGPxp",
        "outputId": "fcc69cf7-6440-4536-a8d7-409b368379ba"
      },
      "execution_count": 17,
      "outputs": [
        {
          "output_type": "stream",
          "name": "stdout",
          "text": [
            "[[43 50 62 90]\n",
            " [51 22 87 13]\n",
            " [49 61 42 48]]\n"
          ]
        }
      ]
    },
    {
      "cell_type": "code",
      "source": [
        "#creating two values with random numbers\n",
        "matrix_1 = np.random.randint(50, size=(3,3))\n",
        "matrix_4 = np.random.randint(50, size=(3,4))"
      ],
      "metadata": {
        "id": "0DRO6WRKGWLi"
      },
      "execution_count": 18,
      "outputs": []
    },
    {
      "cell_type": "code",
      "source": [
        "sum = np.add(matrix_1, matrix_4)\n",
        "print(sum)"
      ],
      "metadata": {
        "colab": {
          "base_uri": "https://localhost:8080/",
          "height": 158
        },
        "id": "RbjAwYlqHN1I",
        "outputId": "13210e3b-e5f2-45e2-bed9-2f8349b88669"
      },
      "execution_count": 19,
      "outputs": [
        {
          "output_type": "error",
          "ename": "ValueError",
          "evalue": "operands could not be broadcast together with shapes (3,3) (3,4) ",
          "traceback": [
            "\u001b[0;31m---------------------------------------------------------------------------\u001b[0m",
            "\u001b[0;31mValueError\u001b[0m                                Traceback (most recent call last)",
            "\u001b[0;32m<ipython-input-19-497b61fd6a37>\u001b[0m in \u001b[0;36m<cell line: 0>\u001b[0;34m()\u001b[0m\n\u001b[0;32m----> 1\u001b[0;31m \u001b[0msum\u001b[0m \u001b[0;34m=\u001b[0m \u001b[0mnp\u001b[0m\u001b[0;34m.\u001b[0m\u001b[0madd\u001b[0m\u001b[0;34m(\u001b[0m\u001b[0mmatrix_1\u001b[0m\u001b[0;34m,\u001b[0m \u001b[0mmatrix_4\u001b[0m\u001b[0;34m)\u001b[0m\u001b[0;34m\u001b[0m\u001b[0;34m\u001b[0m\u001b[0m\n\u001b[0m\u001b[1;32m      2\u001b[0m \u001b[0mprint\u001b[0m\u001b[0;34m(\u001b[0m\u001b[0msum\u001b[0m\u001b[0;34m)\u001b[0m\u001b[0;34m\u001b[0m\u001b[0;34m\u001b[0m\u001b[0m\n",
            "\u001b[0;31mValueError\u001b[0m: operands could not be broadcast together with shapes (3,3) (3,4) "
          ]
        }
      ]
    },
    {
      "cell_type": "markdown",
      "source": [
        "we get this error beacuse they don't have same shape"
      ],
      "metadata": {
        "id": "EQQMnLfgHWzp"
      }
    },
    {
      "cell_type": "markdown",
      "source": [
        "**Matrix Substraction**"
      ],
      "metadata": {
        "id": "vSNvVxX3HnVY"
      }
    },
    {
      "cell_type": "code",
      "source": [
        "#creating two matrices\n",
        "A = np.array([[2, 3], [4, 5]])\n",
        "B = np.array([[6, 7], [8, 9]])"
      ],
      "metadata": {
        "id": "7hz-q0eLHUh5"
      },
      "execution_count": 20,
      "outputs": []
    },
    {
      "cell_type": "code",
      "source": [
        "diff = A - B\n",
        "print(diff)"
      ],
      "metadata": {
        "colab": {
          "base_uri": "https://localhost:8080/"
        },
        "id": "SQgCMNZyH04d",
        "outputId": "354818e5-0a60-463e-e592-fd9a1bf4b5cc"
      },
      "execution_count": 21,
      "outputs": [
        {
          "output_type": "stream",
          "name": "stdout",
          "text": [
            "[[-4 -4]\n",
            " [-4 -4]]\n"
          ]
        }
      ]
    },
    {
      "cell_type": "code",
      "source": [
        "#creating two values with random numbers\n",
        "matrix_1 = np.random.randint(50, size=(3,3))\n",
        "matrix_2 = np.random.randint(50, size=(3,3))\n",
        "print(matrix_1)"
      ],
      "metadata": {
        "colab": {
          "base_uri": "https://localhost:8080/"
        },
        "id": "ZPuYLz1VH4R5",
        "outputId": "623f7128-270b-454a-d49b-b4c29d6b4f09"
      },
      "execution_count": 22,
      "outputs": [
        {
          "output_type": "stream",
          "name": "stdout",
          "text": [
            "[[35  8  1]\n",
            " [21 45 13]\n",
            " [23 13 44]]\n"
          ]
        }
      ]
    },
    {
      "cell_type": "code",
      "source": [
        "print(matrix_2)"
      ],
      "metadata": {
        "colab": {
          "base_uri": "https://localhost:8080/"
        },
        "id": "Uhw3GmctINNL",
        "outputId": "40d037e1-6c7b-4fd2-ce5b-596c3113a20a"
      },
      "execution_count": 23,
      "outputs": [
        {
          "output_type": "stream",
          "name": "stdout",
          "text": [
            "[[48  9 41]\n",
            " [32 14 33]\n",
            " [ 1 24 28]]\n"
          ]
        }
      ]
    },
    {
      "cell_type": "code",
      "source": [
        "#difference = matrix_1 - matrix_2\n",
        "#print(difference)\n",
        "diff = np.subtract(matrix_1, matrix_2)\n",
        "print(diff)"
      ],
      "metadata": {
        "colab": {
          "base_uri": "https://localhost:8080/"
        },
        "id": "jQ3ZQrcVIPa1",
        "outputId": "1be237c2-c624-42c5-f1f6-d4e92c42771b"
      },
      "execution_count": 25,
      "outputs": [
        {
          "output_type": "stream",
          "name": "stdout",
          "text": [
            "[[-13  -1 -40]\n",
            " [-11  31 -20]\n",
            " [ 22 -11  16]]\n"
          ]
        }
      ]
    },
    {
      "cell_type": "markdown",
      "source": [
        "**Matrix Multiplication**"
      ],
      "metadata": {
        "id": "4HDqw0RuI2qO"
      }
    },
    {
      "cell_type": "code",
      "source": [
        "x = 4\n",
        "y = np.random.randint(20, size=(2,2))\n",
        "z = x * y\n",
        "print(z)"
      ],
      "metadata": {
        "colab": {
          "base_uri": "https://localhost:8080/"
        },
        "id": "0n8g_lDhIWSi",
        "outputId": "17cee434-64b8-4456-de60-a19dd4864699"
      },
      "execution_count": 26,
      "outputs": [
        {
          "output_type": "stream",
          "name": "stdout",
          "text": [
            "[[20 64]\n",
            " [24 48]]\n"
          ]
        }
      ]
    },
    {
      "cell_type": "code",
      "source": [
        "product = np.multiply(x, y)\n",
        "print(product)"
      ],
      "metadata": {
        "colab": {
          "base_uri": "https://localhost:8080/"
        },
        "id": "x70GVH5nJQ20",
        "outputId": "ad4210b6-0e23-4662-822d-d5a0e20256bb"
      },
      "execution_count": 27,
      "outputs": [
        {
          "output_type": "stream",
          "name": "stdout",
          "text": [
            "[[20 64]\n",
            " [24 48]]\n"
          ]
        }
      ]
    },
    {
      "cell_type": "code",
      "source": [
        "#creating two values with random numbers\n",
        "matrix_1 = np.random.randint(50, size=(3,3))\n",
        "matrix_2 = np.random.randint(50, size=(3,4))\n",
        "print(matrix_1)"
      ],
      "metadata": {
        "colab": {
          "base_uri": "https://localhost:8080/"
        },
        "id": "ZaU2_ZvwJdE0",
        "outputId": "d196e5f6-6d83-45fe-8ed6-b7b4b87dc775"
      },
      "execution_count": 28,
      "outputs": [
        {
          "output_type": "stream",
          "name": "stdout",
          "text": [
            "[[36 18 39]\n",
            " [24 23  5]\n",
            " [48 45 35]]\n"
          ]
        }
      ]
    },
    {
      "cell_type": "code",
      "source": [
        "print(matrix_2)"
      ],
      "metadata": {
        "colab": {
          "base_uri": "https://localhost:8080/"
        },
        "id": "QB9l8OmWKNM5",
        "outputId": "4a677ec5-a651-470b-c632-1839578eee85"
      },
      "execution_count": 29,
      "outputs": [
        {
          "output_type": "stream",
          "name": "stdout",
          "text": [
            "[[42 15  7 49]\n",
            " [14 38  6 13]\n",
            " [41 16 25 46]]\n"
          ]
        }
      ]
    },
    {
      "cell_type": "code",
      "source": [
        "product = np.dot(matrix_1, matrix_2)\n",
        "print(product)"
      ],
      "metadata": {
        "colab": {
          "base_uri": "https://localhost:8080/"
        },
        "id": "DTL69FNPKRBA",
        "outputId": "8189a269-5f5e-4b0d-df64-1d5a7ed2c674"
      },
      "execution_count": 30,
      "outputs": [
        {
          "output_type": "stream",
          "name": "stdout",
          "text": [
            "[[3363 1848 1335 3792]\n",
            " [1535 1314  431 1705]\n",
            " [4081 2990 1481 4547]]\n"
          ]
        }
      ]
    },
    {
      "cell_type": "code",
      "source": [
        "product.shape"
      ],
      "metadata": {
        "colab": {
          "base_uri": "https://localhost:8080/"
        },
        "id": "nRfglm6zKaX9",
        "outputId": "3af01c95-268a-44d3-954b-3a6bb7ea158a"
      },
      "execution_count": 31,
      "outputs": [
        {
          "output_type": "execute_result",
          "data": {
            "text/plain": [
              "(3, 4)"
            ]
          },
          "metadata": {},
          "execution_count": 31
        }
      ]
    },
    {
      "cell_type": "code",
      "source": [
        "#creating two values with random numbers\n",
        "matrix_1 = np.random.randint(50, size=(3,3))\n",
        "matrix_2 = np.random.randint(50, size=(4,4))"
      ],
      "metadata": {
        "id": "nYPunFhWKioq"
      },
      "execution_count": 32,
      "outputs": []
    },
    {
      "cell_type": "code",
      "source": [
        "product = np.dot(matrix_1, matrix_2)\n",
        "print(product)"
      ],
      "metadata": {
        "colab": {
          "base_uri": "https://localhost:8080/",
          "height": 158
        },
        "id": "w_k7wK_4K7VD",
        "outputId": "76ce7b65-c224-4e74-c7e7-706c0af50587"
      },
      "execution_count": 33,
      "outputs": [
        {
          "output_type": "error",
          "ename": "ValueError",
          "evalue": "shapes (3,3) and (4,4) not aligned: 3 (dim 1) != 4 (dim 0)",
          "traceback": [
            "\u001b[0;31m---------------------------------------------------------------------------\u001b[0m",
            "\u001b[0;31mValueError\u001b[0m                                Traceback (most recent call last)",
            "\u001b[0;32m<ipython-input-33-2ebca2c59b74>\u001b[0m in \u001b[0;36m<cell line: 0>\u001b[0;34m()\u001b[0m\n\u001b[0;32m----> 1\u001b[0;31m \u001b[0mproduct\u001b[0m \u001b[0;34m=\u001b[0m \u001b[0mnp\u001b[0m\u001b[0;34m.\u001b[0m\u001b[0mdot\u001b[0m\u001b[0;34m(\u001b[0m\u001b[0mmatrix_1\u001b[0m\u001b[0;34m,\u001b[0m \u001b[0mmatrix_2\u001b[0m\u001b[0;34m)\u001b[0m\u001b[0;34m\u001b[0m\u001b[0;34m\u001b[0m\u001b[0m\n\u001b[0m\u001b[1;32m      2\u001b[0m \u001b[0mprint\u001b[0m\u001b[0;34m(\u001b[0m\u001b[0mproduct\u001b[0m\u001b[0;34m)\u001b[0m\u001b[0;34m\u001b[0m\u001b[0;34m\u001b[0m\u001b[0m\n",
            "\u001b[0;31mValueError\u001b[0m: shapes (3,3) and (4,4) not aligned: 3 (dim 1) != 4 (dim 0)"
          ]
        }
      ]
    },
    {
      "cell_type": "markdown",
      "source": [
        "we get this error because the no of columns in the first matrix should be equal to the no of rows in the second matrix but here it is not"
      ],
      "metadata": {
        "id": "otiJ_PZSLJn9"
      }
    },
    {
      "cell_type": "code",
      "source": [],
      "metadata": {
        "id": "qj5fAu5DK9nn"
      },
      "execution_count": null,
      "outputs": []
    }
  ]
}