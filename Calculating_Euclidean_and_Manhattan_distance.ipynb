{
  "nbformat": 4,
  "nbformat_minor": 0,
  "metadata": {
    "colab": {
      "provenance": [],
      "authorship_tag": "ABX9TyOleE2wGjtZvEtnbBKOY1N8",
      "include_colab_link": true
    },
    "kernelspec": {
      "name": "python3",
      "display_name": "Python 3"
    },
    "language_info": {
      "name": "python"
    }
  },
  "cells": [
    {
      "cell_type": "markdown",
      "metadata": {
        "id": "view-in-github",
        "colab_type": "text"
      },
      "source": [
        "<a href=\"https://colab.research.google.com/github/kc1code/Machine-learning-concepts/blob/main/Calculating_Euclidean_and_Manhattan_distance.ipynb\" target=\"_parent\"><img src=\"https://colab.research.google.com/assets/colab-badge.svg\" alt=\"Open In Colab\"/></a>"
      ]
    },
    {
      "cell_type": "markdown",
      "source": [
        "**Euclidean Distance**"
      ],
      "metadata": {
        "id": "cy6jQIJoVKZf"
      }
    },
    {
      "cell_type": "markdown",
      "source": [
        "![image.png](data:image/png;base64,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)"
      ],
      "metadata": {
        "id": "deoRdfbcVW1U"
      }
    },
    {
      "cell_type": "code",
      "execution_count": null,
      "metadata": {
        "id": "G7Ky-4XkU_Z5"
      },
      "outputs": [],
      "source": [
        "import numpy as np"
      ]
    },
    {
      "cell_type": "code",
      "source": [
        "#consider two points with 2 dimension\n",
        "p1 = (1,1)\n",
        "p2 = (2,2)"
      ],
      "metadata": {
        "id": "IkHYgtfEVcm4"
      },
      "execution_count": null,
      "outputs": []
    },
    {
      "cell_type": "code",
      "source": [
        "#calculating Euclidean distance\n",
        "\n",
        "distance = (p1[0] - p2[0])**2 + (p1[1] - p2[1])**2\n",
        "\n",
        "Euclidean_distance = np.sqrt(distance)\n",
        "\n",
        "print(Euclidean_distance)"
      ],
      "metadata": {
        "colab": {
          "base_uri": "https://localhost:8080/"
        },
        "id": "-suubXU9VqhJ",
        "outputId": "68c8bf1b-a099-47e0-ff4a-53d2e3d822d2"
      },
      "execution_count": null,
      "outputs": [
        {
          "output_type": "stream",
          "name": "stdout",
          "text": [
            "1.4142135623730951\n"
          ]
        }
      ]
    },
    {
      "cell_type": "code",
      "source": [
        "#consider two points with 3 dimensions\n",
        "p1 = (1,1,1)\n",
        "p2 = (2,2,3)\n",
        "\n",
        "#calculating Euclidean distance\n",
        "\n",
        "distance = (p1[0] - p2[0])**2 + (p1[1] - p2[1])**2 + (p1[2] - p2[2])**2\n",
        "\n",
        "Euclidean_distance = np.sqrt(distance)\n",
        "\n",
        "print(Euclidean_distance)"
      ],
      "metadata": {
        "colab": {
          "base_uri": "https://localhost:8080/"
        },
        "id": "GX7pCkmqXIed",
        "outputId": "6631b765-dfc5-407d-eefc-7e2990b68041"
      },
      "execution_count": null,
      "outputs": [
        {
          "output_type": "stream",
          "name": "stdout",
          "text": [
            "2.449489742783178\n"
          ]
        }
      ]
    },
    {
      "cell_type": "code",
      "source": [
        "#consider two points with 4 dimensions\n",
        "p1 = (1,1,1,1)\n",
        "p2 = (2,2,3,4)\n",
        "\n",
        "dist = 0\n",
        "\n",
        "for i in range(len(p1)):\n",
        "  dist += (p1[i] - p2[i])**2\n",
        "\n",
        "Euclidean_dist = np.sqrt(dist)\n",
        "print(Euclidean_dist)\n"
      ],
      "metadata": {
        "colab": {
          "base_uri": "https://localhost:8080/"
        },
        "id": "Mpt-t-waYVlP",
        "outputId": "c4ab6c74-cc4f-46c7-d165-81bdc1f98c43"
      },
      "execution_count": null,
      "outputs": [
        {
          "output_type": "stream",
          "name": "stdout",
          "text": [
            "3.872983346207417\n"
          ]
        }
      ]
    },
    {
      "cell_type": "markdown",
      "source": [
        "Creating a function for calculating Euclidean Distance"
      ],
      "metadata": {
        "id": "raPV1eppZhB9"
      }
    },
    {
      "cell_type": "code",
      "source": [
        "def get_euclidean_distance(p1, p2):\n",
        "  dist = 0\n",
        "  for i in range(len(p1)):\n",
        "    dist += (p1[i] - p2[i])**2\n",
        "\n",
        "  Euclidean_dist = np.sqrt(dist)\n",
        "  print(Euclidean_dist)"
      ],
      "metadata": {
        "id": "-ayTm0LcX1u8"
      },
      "execution_count": null,
      "outputs": []
    },
    {
      "cell_type": "code",
      "source": [
        "get_euclidean_distance((1,1,1,1) , (2,2,2,2))"
      ],
      "metadata": {
        "colab": {
          "base_uri": "https://localhost:8080/"
        },
        "id": "qJQFydC5aAmy",
        "outputId": "a77c9b03-a9eb-409e-a915-6ed834f0d927"
      },
      "execution_count": null,
      "outputs": [
        {
          "output_type": "stream",
          "name": "stdout",
          "text": [
            "2.0\n"
          ]
        }
      ]
    },
    {
      "cell_type": "markdown",
      "source": [
        "**Manhattan Distance**"
      ],
      "metadata": {
        "id": "exAQxS7hWs48"
      }
    },
    {
      "cell_type": "markdown",
      "source": [
        "![image.png](data:image/png;base64,iVBORw0KGgoAAAANSUhEUgAAAPQAAADOCAIAAACGrLhiAAAgAElEQVR4Ae1dT4hjx5l/9xj3YVEOJtBulkCD6cN6fRE+yXj7MoTuyzphaXa9IczqsLxDEiwwjiArEN4wB8OIYYkOg0HYPkQkswqZkIWNIG0Qidc6hA0ixCNCDn7DTNvakeapZ15atVPve/pU7+n9qfrKaU3TnxDd9aq+qq/er3711VelV/UcQf4EgZjPybnFbCYWC6vs5Mz2NSerXiysQAsCEQRk5RtWbVPz2Yxw1w4hT5TFniJMblP0mdwmiDG5TdACWZIVidSw5TbHW+YgYc7kNgebBDST28qhImHO5GZy6yFg7xGxz62HNHGcigq3ny3o1nJNjt2SNUi0Ithya8EkhBwfLdd5dDWtyTG51yDRimBya8HE5NaFKS7Hbkkcj9wrXufOhSc90Z5h6eVqxNqrZp9bA+ZQhDRORYWzW6KLsiLH5FbAKArO5/wLZRFGa+n2DFsrUjfCXvUlsdy+72dN6WSSzkfPcvvhJ1neBbHcUHnf9wOkRZxhnufpwgUQYDlJRDSu46o1MsRF5vNLsc5dr9ed8NPpdFQAfN8/ODhwHKdUKvX7fTUpJaxB7sFgAIra7XasBBNyj8fjwWAQyx6q9jyv3++bcUsIOVhpLNR4nre3tweVB0AODw97vZ6sBhB0sSiXyyAwGo1i1cu4GI/Hxahm5I302vSNy0Du4XCIbeY4jud5iKfrumoSxqcHNMh9dHQEBZbL5VgheuQOggBLiBFosWg2m1BystvE1KRd6JEby1cBcRzn6OgICvV9H5O63W6aJiVuscAbGQ6HSoJJkC13IVq9Xg9a5Uvhv0ajAVk8z8PWgoDK+5Ri//LkRsPvOI7KCZVYrVYrpW75URqWGwc3x3E6nQ5S03GcWq2GiPV6veSokqZaNSg68mllWMcFwflPsRypkvBVV4v1swuRILfjOOBQ1mq1LHL3ej3XdRuNxng89jyv2WxKWxUOkZ7ntVotcG+Gw2Gr1Wo2mzj4IicqlYrneZ1Op9lsSuHFAv2/TqdTrVZbrdYTp2g4HDabTWz+fr+PVVI9ELUfNptNtROOx+N6vV6r1cCFaLfbUDJQo9PptFotL/xAZdrtduRPqxgKoZJ7PB4LIXZ3d7Ey4AuNx+NWqxX5KuHzlaPRqNVqua5bq9W63S566mov7fV6qis1GAxc163X68Ph0Pd9ABMywiXUcDQatdvtCHmF56rGdrsdQbF82BPwrFartVqt0+mk3Kl61zlhfHAqRyYtyZHPW9G+06mYTMzyBsGtDz5wHOdLy6/jOAAKRGJS5LEsFu12GxvVcZwvP/MMXN764AMhRPmll+Dyq88/r4oBQYHcX1JygUyz2ZSObxB86/XX1VwYHo/H0AnVejqOMxqNkNmQBFmkcxIEmASRpVIJApVKRQiBN4K3AKnSEi8WMRgXCyA3DG7gEUHnhxjZe4MAsjuOA525ff06xDy7tQWqv/zMMzAxQFT/aplH4hMEau9VsZX4CIHgJLCNLMtigfZInR7I2saxxbnBV59/XibRyHZyQsh43g9OoeWuVCoA9e7uLhoqBALIHShNWKlUOp3OsnWc9vXrQgi8TATq9boQAi13IvW5rS0hhDpYw8iAYsPhcDwe7+zsYMzOzk65XIbViSv7+xhfKpX29vaAXuqcodfroa3d3t4WQiAVMC8GFFMYBREQ6FFCiFarhfLdbld1jcAoYip4eqPRaHt7u9/vj8djrInjONvb2+VyGUYDvMEnd9HtdrEE13UTYwUkQdc6ODgQQmBb7O7uqg0BfhrOGaBjY7PioLp+ywUxGl7oegkbI7c6VgJ21WoVQQFyj0YjRBxwwUsg97NbWxADMy1MhUsk987OjhBCJZ9qStd1geFXa6hOKFViqRNK5ApoRzavk9v3ffVO0X/A5lknd8Jyq3VIkBtAqFarWGe1G+PkQR1ngJHYB4DcaI/39vaEENil4RL5Wq/X1aKgmba3t6EarutmwYg3qxW4WOQGNw7p6DjOeDxGQgDhVFygVVA+QW4w1egJAL2q1SrIg/1QGZOwheBwY+FAbnXUHoUf8CnVtmy325BXCIHaYc6HfSlBbuhpqiVWnWBoabWqwFHkFgCVILcQQjW9eCOwkJKAEaYu4/E4IYadM0Hub73+ujoMgqnGngA3W6/XXdcFZqt1293dPQo/rutiv9Jic0LoYpFb3upigfhe2d9PGFfP89QGgJkTyqeSG5vn8PBQCIHkhqVAlTHqwAp0UUeJdcsNecEZVRvvMPwk2hsGbuyoluRGvxnuvfzSS0IItQ4wnwaXqd/vo17HceDGVctdq9We3dqq1+tqCXBfyNcEuRPDIFjuw8NDbAuYbcPkHoYytNw7Ozuj0cj3/dFoVK/Xo+lvgrg6lxeP3EKgUQE+obUDyy2EQMejVCrhFEdOQ+M+N9gPxBQukdxguRuNBraHEELtOZVKBX4/AgGojGqhIR4HeuxFEJ9wNB3HUW+kVCo9+fUGuxZwHeeXjpPiGapVxTpDAOyfWrdOp4NMheUgHEOq1eqTTo7C4DQ7jgM3iNOeRIXzyb3eYdQawliBHrmahHp1yJyUuRDkRjbDnEYI0Q8/cDMICthCobAfYEL6wgiIzQOYojmBSxypwZxg4dDkCbcbCYH9SgihesZg3mQ94+sMcswJF7+CIEDjJ63mciUHLB9WBuw6TqzhMtGWqkeE/Hh2awvuGoQxHrqc6udA0uHhITo8aiq4cInu7TgOVh7gwhEAui72N7iEhsM6QACTEthCKt1s41JgAqaiyxSzUZRlma73O99SevV/OBzK9shY1R8Oh4PBQJ1jeZ7X6/Vg7PN9fzAYRNnD0Tm6DIsPgkC9FEKMRiPV1YPCZZMvf0kZjUbdbhc0ep43GAzUdWtgwGAwwK4o9YRWBITVwmXSYtHv93u9Hsgn7mWlPaztaDRK3GkYHf2B1MHyMxqNIkyWv4EDFGrFwIHpdrtYAbVA+PldlQf3BrD1PA/QW93RYjEYDDIvw6IhS7fb7ff7Cdyg8MFgAKnYzdQqGYQvhOVe3c/lfJ77yaLgsl+toNAPWf4GvuwY+gpXkpaqL8OzJSuwLie59Z4tWaGUCNkzLFGg/qW9apuuxZZbt6WoDlVUPgnoKC/8GKlb0TU5e4atFakbYa+aya2LtQ3DNkvuDbolm1XN5GZy5yFgbz7zSs9Ns1fN5M4FWElky62AoRtky62LlP3gvnw2UlejKsfkVtHQDDO5NYGSC9U2YPFqiS7Qipy9b6AUZha0V81uiS7ibLl1kVLkbIwRk1sBsijIlrsIoZR0e4alFKoXZa+aLbce0nwQpi5OMTm23DE4ci7Y584BJyuJf6HMQiY/nuSFOnJeSP7OZvS80yk9bxAIm+zzuZwKk+/aRvXFrbklaDZUoYLmyGYmfyeTzeSdz+XeZBg6aJWfTjdZc1qdYXftpmo+m0mDQq65Td4gkM1trnoDj7xG4w9poFmNXTbZ7R2qVT0MQ+yWGAIWiZOae6Pk5h9xTFvafsnCVCPK26vm1RIEsyBA6spRmWy5C8BNS2Zyp6GSEcfr3BnA5EXbMyyv9Nw0e9VsuXMBVhKfDsutbodTKpcdXPrcxhmhSALDFouVrguyzr2qMAJJau4v3ucOwoPFoH5qGOsZBeKW+8lmx4ODg/V9eMlc4a51GancrU6uWDkhReCY4Ghv32IBR/ilwLrMCQKJI7G73S7stF9KFf1fkhv2wOdLp9xXEbnH4UctdjAYrPbtWpC7Vqvh5n+1fDUMB4qrMatwxjYzPPUFJYMggNMKMEYGlOaOxedefPHk9n2/VCrBoV61Wm1nZ0dzc2itVktsX02tebRdXBnjkicUp2bDSDgFMwj29vaQPb7vw+7u1RZ3lF8GYAN5s9m8sr+v7kLHkziXgrn/l+SG0z+yRH3fd103pQPkkhuOnIRzPbHkwWCwOhYrg9zQbzFLaqBer+e3Dmzvz+wASnth+YPB4Mr+fqvVKpfLaFaCIEg5EeApITeci1epVKALgmHr9/vlcvnK/j6ccwAH2HU6nUqlUi6Xgf2NRqPZbJbLZby3drtdCT/AOTj2pVwuw+mpMCy0Wq3d3V2IAdRqtRoUCwc8tNvto6OjJyeU7u3toQ3r9XqJo+9Ho1Gn04HTfBD9RABODvI8D072wFRsGzCTrfAD2lEmCqyRGwYQAGFvbw/uvdfrjUajnMoMh8NSqeS6LpxJAiDj3am9XYfcOkchq+Q+PDwsv/QSIFYqleDkWDjDdrVbPn7nnuft7u5WKhXf9+v1eqlUGo/H0TkI4aEumPFpJ/fR0VG323Vdt9frwSEhvu/jAcRwIgwIwMlPYAjr9To0D5yoC6fJjMdj3/fhCA4Ywg4ODvDABogpl8sYo+YCLj45auwJaQA7bPX1UQKI0ul0oHrxpgmvFotnt7ZqtdpXn39etdxCCDheGVWDb4DDQqyoNXJD6tHRUb/fT/QZrD8c/tYMP41GA+7F87xvvf56t9tFTkNRQDJUmk9uGLKOjo7gKNCcMVYl9xPYoRPCIcWoq9VqIUcHgwFYq2azCUMHHDolwmOs1TNMfN9Xx7GnndwHBwdwBpLv+2Cqa+Gn1WpVKhVgD9IIzrWAM5lg4Gs2m4DR4eFhs9lstVqqbwMFyp8nlx/VRfM8r1KpwEHdSGUcCg4PD2H4AyovCxBBEOzs7LiuC82M8WoAfcGoMZRF+mazCcMxnGYGR3SvnAG1lAxywyk8if6gkhs6DPxFCoIrpRaP1gQj88kdBMF4PG6329FRJ8pNYQkQUMkNnW04HB4dHWFlMBLkwZyt+nnYXmCk1PbyfX93d1ct5GknN3ZE3/fhTiDG9310WNvtNti/TqcD/RinLI1GYzAYYF7P857d2sKGB8oOww/gCL4pHMfT7/fB3R8Oh9vb20BlWYew2aDXqcMFlKB6KSgjFgs8nhiOmAHV4AlAgZAdz3YKggDf0qQ2GIjJv2nkfnISEIxvu7u70L2D8AOu3SovHPi/7NXt8KNOi3u9HvR8lXP55IbCTd0SyLW9vY0vxgirFoBVQu85VvPQ3Qfo0GyDrwJnCaEteKrJPRwOa7UaeMnNZtN1XfCuDg8Pa7XacDgEqwkvAICZE9AaX58ASXBy6ZX9fXjbAR4C1u/3r+zvw8m52DYHBweNRgP49GRwPDg4gD7T6XTAmsL4AEf8y1zTKdr1IAjc8OP7fq/Xq9VqMNBDS2BTNRoNOMvUdV112jQYDAwWTNbI/WQyB2c3e55Xq9Vc1w3C49rc8IUH1WoVB3pZ7eWEEt6I0Ol0VLTr4QfQw2rrkDvGwoyLhOWGc1/R4vi+D9NZ13UTblJU3vLNjOosGdCGu0ZvMAiClMnG0zOhzMAnHp09AsblMq6WBiwjOTc6PMkNpupIgvUM/X4/ffFEqflgMFAH2fVCkjFLcsPpmMnUwusluQsFUeAvsRTo+3673UZzg7ryAuECMUzD8sRk/32KlwLzq75Kja9zr+I1Q6SuHJW9/Pl9PB7nkDszSVGdvzqWcitLcsfscYpcRpQ5ueEk6Ki4jKXADGWxaDiJGKK63S56ETGhnIvFYvUGnxyxMCkFHAXzotyr9C9+nXtVdn7oKSB3fgUzU0lAR6UtyZ1ZeH6COblj5VmQGz2iWIH6Fzaqn54fcXTvl8mti5Qid6HJbeNJkgwKW26FOppBEtBR2ZfZcjO5NQlGe9ggKnzpc+vqSsgxuROA6FxmPFuik1XKkDDfnOXehBMWQcnk1uWUImfvESmrTEq5ekEiuWkvvYQddaRXX8peOJsJm7yW2Qmvh1VR2mDNJxPjF9t+UTW3BG0ykVsw1coYhUmYs+XWsxyqFMmKRAVcZp97A5ZbbTajsP3gfu53G92ffc2NgFKFLzO5eUKpMiEvbGM+mdx5yGak2fvcTO4MaNeimdxrkBRH2EzimdzF+KIE/4iDUOgH7Bmmryshaa+aLXcC0sxLttyZ0GQnsOXOxiaeYu+5Xs4JpWW3tLF/TO44hbOvmNzZ2GSm8GpJJjS5CSSLsLl1bva5c1szPdHe8U0vVyPWXrXNmMPk1miiUMR+zNHVtCbHlnsNEq0IJrcWTLBZy8b7JAEd1Y3JrdtIcTkS5uyWxEHUuSIBHRV8XuR+fGckn0JJfLK7tJQ/OUmIxy7ZLYnBkX/BPnc+PqmpuQw7ufrqZ98++Px73xRCfPqcsyL3ZHLvtb3Pvn0gH12Kf04/Pr73ta/8343vy8Bre/HE+FWu6rho2tXleuSVyZ3GgYK4XIbde21vcu2Ne6/tPb4zkuSezz//3jcn1944/fh4fnz77ouONM/hZ358e/ajmydXXz39+Nj/2bt3X3TEbPbpc87Z2WlmBXJVZ+bCBCY3QlEcsPENNjuhtKx59prDva99xf/Zu58+55x+fAxMvfuy8+lzktMnV189+ee/lY5H6HvMfnTz8+998+7LUvLuy87k2htM7jjl7ClyOX/EyXZ84/imXeWaz/nx7QfvvnP68bEQ4t7XvvL4zmh+fPv04+PHd0YP3n3nwbvvzI9vn1x9VQjx+M5ocu0NIPeDd9+Z/ejm/Pg2+DNpWsO4XNWZuTCBLTdCURywtH82DLNRfV4TyujlTAkcT06ig7JmM+wGkchkknmUBUgwuRNg5l2yz52HTkaaHcPwgKiM0nOj7VTLd5FlO1S5isNEkkHhpcBiYJMSJKCjQhaLvElbUlPy+uzslJbd87yf/N3f/O9fO51/+nqyUM3rC0luqDTtr82bMzf4qlKYLdBumfrCTzjU5sHk9Cc/nZ3/92b1rbsvO/L7onPrgw8kn01vH14DaZoL5W2oQsXc4g3C87l07LD2pgF4S6ppLpS3yb65mv/q14+G/3PyYHJ6zt+ffr9+90WF3MvXSxg0H7ziFfE3DcBLVk1zoTypudkt0RyVFTELt+RXv370yScPlLIMg9DYhpngVHx0SwomjlmFU1VH5bHPnQVsSrwFw6S52tBqyabIDQCmHxmeAm5aFJM7DZWMuEu5WrJZclt1aSZ3BpHTopncaagUxNkzrEBBdrK9al4KzEY3nsJuSRwPrSsbZ4zJrQUxCLHlNgBrKWrPsGVJxv/tVbPl1gWdLbcuUoocW24FjNyg/ZrD5XtwiieUuZTKTiTZMl7nzgY0K4UENBTG5M4CtSCehDmTuwDVlGQS0FAOkzsFT50oEuZMbh1o4zIkoKEIJnccSu0rEuZMbm18UZAENORmciOKZgES5kxuM5ClNAloUMPkNoc7zEHCnMltjjYJaCa3fKSH/CFhzuQ2x5sENJObya1NNQuGXdqnAvnBKW168Y842lChIPvcCIVZgGTL2C0xA1lKk4AGNUxuc7jDHCTMN0pu4o3S7zZSaDfm0LbogupLTe5zf9pCHrpF/M5m8jQ6cvaTE3re+VyenERWbVPzIPiX6h///Qf3ad/v/9u9s3sP6TWfTqMDSWj3bgMavGSVpnc+j94NS85OqrkjT2mhfcH+0fIuFnJwJ+cF34Cc3aLmp4/Ff/zwvs2QI5ltU/MgoGeHpwJp2uGRV1peOIqIXHN0BQ21b9QtOfdxyt4tsSX3uZ04ldr/+JHXVFhSIu0818hyp5SrF0WaYURFW9Scya3XPGtSvPt9DZLsiItLbsua2/zOx5Y7m1DxFAv7Jwu6mNvM2HLHSaB9xZZbGyqrxWabXyiZ3AZtpIoyuVU0CsKWgzt1gGZyF7RLVjKTOwuZlHgmdwooRVHULi3L5d3vRegq6exzK2DoBu0ZpqtpTc5etc1UmGTLeJ17rRVzI9gtyYUnO5Hdkmxs1lJIXTkqxWKdh8m91hJ6EUxuPZxCqYtLbsua2wzu7HPrMszC/kkV7HPrAq3I2Tu+SmFmQXvVNt2SZBHY5zZrYnZLzPBCaXZLEIriAKkrR8VajDlM7uKmSZVgcqfCkh7J5E7HJTeWfe5ceJREC/snS2GfW8FSN2jv+OpqWpOzV80+9xqoGRFsuTOAyYtmy52Hjpp2cS03vKhOvRftcBAEVjtxYAuStrqkoL35TJaofW2vegOW23DrTrTHCR42AEtAKEEIq91WkF0IyoYrIT755MF//fIR+XvtxvJde6Y3DhW2AQ0ZZqoaNj1tVjWQm1ZzGKgN8zrS96V9p1O5S5eWdzazyosbhM21n52dXrvx4JNP6N9oh6+56ggrG9Amk2inLU27jWrYIEzTCzuyp1MiW6jNvbl1bhv/D3eMag+qquC1Gw9sjmeQYw75c5n3UJ77ltnNkXtzqyW25LaZy15mcm/A5yYboQs7oWRyU9oc3X1K5nCKxeTWhc7CfDK5dUFW5ZjcKhoFYXZLCgBKS7ZnWFqpWnH2qtlyawG92QmlxaAh1y5t5qP2DNPFd03OXjWTew3UjAgLhrFbkoFpbjSTOxeeeCK7JXE8tK7sGaalJk3IXjVb7jRc0+LYcqehUhC3WY+IyV3QPJjM5EYo9ANMbl2seJ1bFylFjieUChgGQZIt418oDRCORElAR3mZ3OZ4yxwkzJnc5mCTgGZy86v6tKlmwTBeCtRGWRHk1RIFjKIgLwUWIZSSbs+wlEL1ouxV82qJHtJEJwwKZ8utC7Iqx+RW0SgIs+UuACgt2Z5haaVqxdmrZsutBTR1+gyFs+XWBVmVY3KraBSELWaEQgibrTRM7oKmSU2+kOQm74qDjXHk7OT9fPP5g8npd777x2s3HtC+3/nuH+Wjeedfc9BIvvHZTL5hdTLZTM0tVU8msvI0zOl7KA13FK82nMMvlLTsNrvfhfj9+M+/+vWjVPuiEymtPvlNp+gR0W4cfsQh5wXzSctuc2QAHIZBfksq3DU5OxXzC/kjzu/Hf/7lf3+uw+N0GfsHB9LL1YjlXyg1QEoRITmxTO4UJAuiSEBHZTK5C8DNSCZhzuTOQDMnmgR0VB6TOwfYnCQS5kzuHEQzkkhAR2UxuTNALYgmYc7kLkA1JZkEdFQOkzsFUI0oEuZMbg1kEyIkoKMymNwJMDUvSZgzuTXRVcRIQEf5mdwKkAZBEuZMbgOEI1ES0FFePsLYHG+Zg4Q5k9scbBLQK3JvdiOj+e1GOS7kz+82d2vTThZPBfKPOMRGs2kvJrcB6ExuA7CWovYMW5Zk/N9eNT/yqgM6W24dlFJk2HKngJIaZf+EBvU0ciZ3aoMURzK5izECCSa3LlKKHC8FKmAYBEmTeF4tMUA4EiUBHeVlcpvjLXOQMGdym4NNAnpFbpvs9rM689uNctir5gmlDvjsc+uglCLDPncKKKlRm/O5f3H82x/+4BZ9G6V9zVMB0Ylkt0QHpXUZ0nDnrLaNGW1e2tRLVoXo9Xp/cI6mTvU///ofI36fc80BaCOlqjCYTzVGMwyYw+CumUUVs9lm9oWohsUxtUqaYfS5NeWXYhYvWd3IBmEhfvHqv9513LuOO3Wq/X5fnkBnuu3UZq8rbFY11ajK8wZhFQ2dMH2D8PoQoBljP7iT1rl/3HgHyP2R83XP8zQrGxOzr3msOJMLdktM0FrJEt2SVQGGIXuKkMh9dnb648Y7t/+hNhgMDGu8FLev+bIk4/9MbmPIwgyXhNw0cGK5mNwxOPQueClQD6dQyvDBqbN7Dx/97k+r8nOt/rz/25XkeojJvY5JYQyTuxCilYAGuR/97k/3X3jzs29cF0Lcf+VtpOzpY3H/hTcfvvfhqjQIBcH9V95++N6Hk7fen974eTIVr5ncCIV+gMmtj5Vc4si1vkKIydWbD9/78LNvXH/43od/cI7O7j28/8rbk7fe92/9ZvLW+5O33o/ULRb3X3l7euPnD9/7cHrj5yBw/4U3MyvD5M6EJjuByZ2NzVqKBrk/+8b1+6+8fddxJWudKpD7U+fvH310B8h9du+h7CFBMHWqk6s3gdkRuV95e03lMoLJvUTC4D+T2wAsDXI/+ujO2b2H0huZTidXb/q3fuPf+s2jj+48+t2f4Hv/hTclv4WYvPU+OCoQD8KZlWFyZ0KTncDkzsZmLUWD3LE8iwXwOIoMf+fDmHn/t9LJXvo5GB8rAS+Y3AiFfoDJrY+Vjs+dVxpp4TMqkMmdh2xGGpM7A5i0aFPLnSiDyZ0AROeSnwrUQUnK2Nu/pRehq1GVY3KraGiGmdyaQDG5dYFS5fjndxUN/TDJll3InTgSE9LdRmDajzn6rZKQZHInANG8JDU3k1sTXUWMBHSUn8mtAGkQJGHO5DZAOBIlAR3lZXKb4y1zkDBncpuDTQKayS0naeQPCXMmtzneJKCZ3ExubarZMIwnlNowrwQv5I84UGnCX3hPKSEjZJlOZVcmfycTel7LmtuoDgL5rlHyXVvW/IKqDgL5allz0BxCnijLfG7VTjZAU+92VfPZjH7jJKBXqm1u3JLcljW3AW06lS+2NSdolIVUc/a5VwOvbsjGI+LVEl2U43IkzJnccRB1rkhARwUzuXUQXpchYc7kXgeyKIYEdFQok7sI3fR0EuZM7nQw82JJQEcFMrnzkM1OI2HO5M4GNCuFBHRUGL/NLAvV/HgS5kzufFDTUklARwWx5U5DtDiOhDmTuxjYpAQJ6KgQJncSTb1rEuZMbj1wVSkS0FEBTG4VSf0wCXMmtz7AS0kS0FFmJvcSRbP/JMyZ3GYgS2kS0JEaJrc53mTMmdzmYDO5zTGLfnsnZIQsJMyZ3OZ4k4CO1LDlNsdb5iBhzuQ2B5sE9IrcNtnhwSPzKkc5ePe7LnT2T0Xz0Q66WC/lmNxLJHT+s+XWQSkuY2N62S2JY6l7RcKcya0L70qOBHSUncm9wtEkRMKcyW0CMciSgI7UMLnN8ZY5SJgzuc3BJgHN5JZ7asgfEuabI7fNzJ3alSNsLadlJKCZ3HjANIXhJMwtXrI6nQqb94Xa5J3NrFTbvGTVUrVl9slEbpXVeTFpqowN5pagTSZyx21qrXQiSTWnvh47fFmH/NlJCNkjTb/wqmbTXCiPlhtjjAKwiGmUBYUtVaPPjQUaBXDMMQlrRwAAAABeSURBVMoFwl/I67EJemHBdz43JgnqomK+ObeEz+cmDM9IbkJeJDctr73qS+RzM7kJJLNnGEEpZLFXzeTWBZ80w4gKt/9tVbeWa3LolqylaEXYM0xLTZqQvepzJ/f/A06Df+8Y4uihAAAAAElFTkSuQmCC)"
      ],
      "metadata": {
        "id": "ITZcn0CFaWBw"
      }
    },
    {
      "cell_type": "markdown",
      "source": [
        "Creating a function for manhattan distance"
      ],
      "metadata": {
        "id": "tW-lRycGacwe"
      }
    },
    {
      "cell_type": "code",
      "source": [
        "def get_manhattan_distance(p1, p2):\n",
        "  dist = 0\n",
        "  for i in range(len(p1)):\n",
        "    dist += abs(p1[i] - p2[i])\n",
        "\n",
        "  manhattan_dist = dist\n",
        "  print(manhattan_dist)"
      ],
      "metadata": {
        "id": "ZJQo3u6BWmI4"
      },
      "execution_count": null,
      "outputs": []
    },
    {
      "cell_type": "code",
      "source": [
        "get_manhattan_distance((1,1,1,1),(2,2,2,2))"
      ],
      "metadata": {
        "id": "yyD7HMFua96g",
        "colab": {
          "base_uri": "https://localhost:8080/"
        },
        "outputId": "f41c38ad-3777-4fba-cd3e-79a58adabd19"
      },
      "execution_count": null,
      "outputs": [
        {
          "output_type": "stream",
          "name": "stdout",
          "text": [
            "4\n"
          ]
        }
      ]
    },
    {
      "cell_type": "code",
      "source": [],
      "metadata": {
        "id": "sh_H1rq2keDO"
      },
      "execution_count": null,
      "outputs": []
    }
  ]
}