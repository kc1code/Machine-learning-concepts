{
  "nbformat": 4,
  "nbformat_minor": 0,
  "metadata": {
    "colab": {
      "provenance": [],
      "authorship_tag": "ABX9TyPQ9N4bvQNqY+I8jZo6li0n",
      "include_colab_link": true
    },
    "kernelspec": {
      "name": "python3",
      "display_name": "Python 3"
    },
    "language_info": {
      "name": "python"
    }
  },
  "cells": [
    {
      "cell_type": "markdown",
      "metadata": {
        "id": "view-in-github",
        "colab_type": "text"
      },
      "source": [
        "<a href=\"https://colab.research.google.com/github/kc1code/Machine-learning-concepts/blob/main/Building_linear_regression_from_scratch_in_python.ipynb\" target=\"_parent\"><img src=\"https://colab.research.google.com/assets/colab-badge.svg\" alt=\"Open In Colab\"/></a>"
      ]
    },
    {
      "cell_type": "markdown",
      "source": [
        " **Linear Regression**\n",
        "\n",
        "Y = wX + b\n",
        "\n",
        "*   Y ----> dependent variable\n",
        "*   X ----> Independent variable\n",
        "*   w ----> weight\n",
        "*   b ----> bias\n",
        "\n"
      ],
      "metadata": {
        "id": "pO6HYjk3XUfN"
      }
    },
    {
      "cell_type": "code",
      "execution_count": 3,
      "metadata": {
        "id": "1TnrWkPWXL-5"
      },
      "outputs": [],
      "source": [
        "#import the libraray\n",
        "import numpy as np\n",
        "import pandas as pd\n",
        "from sklearn.model_selection import train_test_split\n",
        "\n",
        "import matplotlib.pyplot as plt"
      ]
    },
    {
      "cell_type": "code",
      "source": [
        "#linear regression model\n",
        "class Linear_Regression:\n",
        "\n",
        "  #initating the parameters(learning_rate & no_of_iterations)\n",
        "  def __init__(self, learning_rate, no_of_iteration):\n",
        "\n",
        "    self.learning_rate = learning_rate           #initating the parameters\n",
        "    self.no_of_iteration = no_of_iteration\n",
        "\n",
        "\n",
        "\n",
        "  # Function for model training\n",
        "  def fit(self, X, Y):\n",
        "    #number of training examples & number of features\n",
        "    self.m, self.n = X.shape     #m=no of rows/training examples  & n = no of column/feratures\n",
        "\n",
        "    #initating the weight and bias\n",
        "    self.W = np.zeros(self.n)\n",
        "\n",
        "    self.b = 0\n",
        "    self.X = X\n",
        "    self.Y = Y\n",
        "\n",
        "    #implementing gradient descent\n",
        "    for i in range(self.no_of_iteration):\n",
        "      self.update_weights()\n",
        "    return self\n",
        "\n",
        "\n",
        "\n",
        "  #Helper function to update weights in gradient descent\n",
        "  def update_weights(self, ):\n",
        "    Y_prediction = self.predict(self.X)\n",
        "\n",
        "    #calculating gradient\n",
        "    dW = - (2 * (self.X.T).dot(self.Y - Y_prediction) ) / self.m\n",
        "    db = - 2 * np.sum(self.Y - Y_prediction)/self.m\n",
        "\n",
        "    #updating the value of weight\n",
        "    self.W = self.W - self.learning_rate * dW\n",
        "    self.b = self.b - self.learning_rate * db\n",
        "    return self\n",
        "\n",
        "\n",
        "\n",
        "  def predict(self, X):\n",
        "    return X.dot(self.W) + self.b\n",
        "\n"
      ],
      "metadata": {
        "id": "cfb0wKy-ZoWs"
      },
      "execution_count": 4,
      "outputs": []
    },
    {
      "cell_type": "code",
      "source": [
        "#driver code\n",
        "def main():\n",
        "\n",
        "  #importing the dataset\n",
        "  df = pd.read_csv('/content/salary_data.csv')\n",
        "  X = df.iloc[:, :-1].values\n",
        "  Y = df.iloc[:, -1].values\n",
        "\n",
        "  # Splitting dataset into train and test set\n",
        "  X_train, X_test, Y_train, Y_test = train_test_split(X, Y, test_size = 1/3, random_state = 0)\n",
        "\n",
        "  #traing the model\n",
        "  model = Linear_Regression(no_of_iteration=1000, learning_rate=0.01)\n",
        "  model.fit(X_train, Y_train)\n",
        "\n",
        "  # Prediction on test set\n",
        "  Y_prediction = model.predict(X_test)\n",
        "  print(\"Predicted values: \", np.round(Y_prediction[:3], 2))\n",
        "  print(\"Real Values: \", Y_test[:3])\n",
        "  print(\"Trained W \", round(model.W[0], 2))\n",
        "  print(\"Trained b \", round(model.b, 2))\n",
        "\n",
        "  # Visualization on test set\n",
        "\n",
        "  plt.scatter( X_test, Y_test, color = 'blue' )\n",
        "\n",
        "  plt.plot( X_test, Y_prediction, color = 'orange' )\n",
        "\n",
        "  plt.title( 'Salary vs Experience' )\n",
        "\n",
        "  plt.xlabel( 'Years of Experience' )\n",
        "\n",
        "  plt.ylabel( 'Salary' )\n",
        "\n",
        "  plt.show()\n",
        "\n",
        "if __name__ == \"__main__\" :\n",
        "\n",
        "    main()"
      ],
      "metadata": {
        "colab": {
          "base_uri": "https://localhost:8080/",
          "height": 541
        },
        "id": "CWY9qNjhXL88",
        "outputId": "43b28103-9a43-49b1-9747-34eb178b3e7e"
      },
      "execution_count": 7,
      "outputs": [
        {
          "output_type": "stream",
          "name": "stdout",
          "text": [
            "Predicted values:  [ 40594.69 123305.18  65031.88]\n",
            "Real Values:  [ 37731 122391  57081]\n",
            "Trained W  9398.92\n",
            "Trained b  26496.31\n"
          ]
        },
        {
          "output_type": "display_data",
          "data": {
            "text/plain": [
              "<Figure size 640x480 with 1 Axes>"
            ],
            "image/png": "[encoded data removed]"
          },
          "metadata": {}
        }
      ]
    },
    {
      "cell_type": "code",
      "source": [],
      "metadata": {
        "id": "d3SUMavtZOYm"
      },
      "execution_count": null,
      "outputs": []
    },
    {
      "cell_type": "markdown",
      "source": [
        "Step 1: Importing Required Libraries\n",
        "--------------------------------------------------------\n",
        "import numpy as np  # For numerical operations and handling arrays\n",
        "import pandas as pd  # For working with datasets in a tabular format\n",
        "from sklearn.model_selection import train_test_split  # For splitting data into training and testing sets\n",
        "import matplotlib.pyplot as plt  # For data visualization\n",
        "\n",
        "\n",
        "Step 2: Defining the Linear Regression Class**\n",
        "--------------------------------------------------------\n",
        "class LinearRegression():\n",
        "    - We create a custom class `LinearRegression` to implement the Linear Regression model from scratch.\n",
        "\n",
        "Step 2.1: Initializing the Model**\n",
        "--------------------------------------------------------\n",
        "def __init__(self, learning_rate, iterations):\n",
        "\n",
        "    - self.learning_rate = learning_rate  # Controls the step size in gradient descent.\n",
        "    - self.iterations = iterations  # Number of times the model updates the weights.\n",
        "\n",
        "\n",
        "Step 3: Implementing the `fit` Function for Training the Model**\n",
        "--------------------------------------------------------\n",
        "def fit(self, X, Y):\n",
        "\n",
        "    - self.m, self.n = X.shape  # Get number of rows (m) and number of features (n).\n",
        "    - self.W = np.zeros(self.n)  # Initialize weights to zero.\n",
        "    - self.b = 0  # Initialize bias to zero.\n",
        "    - self.X = X  # Store input features.\n",
        "    - self.Y = Y  # Store output labels.\n",
        "    - for i in range(self.iterations):\n",
        "        - self.update_weights()  # Call function to update weights in each iteration.\n",
        "\n",
        "\n",
        "Step 4: Updating Weights Using Gradient Descent**\n",
        "--------------------------------------------------------\n",
        "def update_weights(self):\n",
        "\n",
        "    - Y_pred = self.predict(self.X)  # Compute predicted values.\n",
        "    - dW = - (2 * (self.X.T).dot(self.Y - Y_pred)) / self.m  # Compute gradient for weights.\n",
        "    - db = - 2 * np.sum(self.Y - Y_pred) / self.m  # Compute gradient for bias.\n",
        "    - self.W = self.W - self.learning_rate * dW  # Update weight values.\n",
        "    - self.b = self.b - self.learning_rate * db  # Update bias value.\n",
        "\n",
        "\n",
        "Step 5: Making Predictions**\n",
        "--------------------------------------------------------\n",
        "def predict(self, X):\n",
        "\n",
        "    - return X.dot(self.W) + self.b  # Apply the Linear Regression equation: Y = W*X + b\n",
        "\n",
        "\n",
        "Step 6: Driver Code (`main` function)**\n",
        "--------------------------------------------------------\n",
        "def main():\n",
        "\n",
        "    - Reads the dataset `salary_data.csv` using pandas.\n",
        "    - Extracts independent variable `X` (YearsExperience) and dependent variable `Y` (Salary).\n",
        "\n",
        "\n",
        "Step 7: Splitting the Data into Training and Testing Sets**\n",
        "--------------------------------------------------------\n",
        "    - X_train, X_test, Y_train, Y_test = train_test_split(X, Y, test_size=1/3, random_state=0)\n",
        "    - Divides the dataset into:\n",
        "        - 2/3 for training.\n",
        "        - 1/3 for testing.\n",
        "\n",
        "\n",
        "Step 8: Training the Model**\n",
        "--------------------------------------------------------\n",
        "    - model = LinearRegression(iterations=1000, learning_rate=0.01)\n",
        "    - Calls the `fit()` function to train the model using gradient descent.\n",
        "\n",
        "\n",
        "Step 9: Making Predictions on the Test Set**\n",
        "--------------------------------------------------------\n",
        "    - Y_pred = model.predict(X_test)  # Predicts salaries for test data.\n",
        "\n",
        "\n",
        "Step 10: Printing Some Results**\n",
        "--------------------------------------------------------\n",
        "    - Prints first 3 predicted salaries.\n",
        "    - Prints first 3 actual salaries.\n",
        "    - Displays the trained weight and bias values.\n",
        "\n",
        "\n",
        "Step 11: Visualizing the Results**\n",
        "--------------------------------------------------------\n",
        "    - Plots actual salary data as blue dots.\n",
        "    - Plots predicted salary data as an orange line.\n",
        "    - Adds labels and a title to the plot.\n",
        "\n",
        "\n",
        "Step 12: Running the `main()` Function**\n",
        "--------------------------------------------------------\n",
        "if __name__ == \"__main__\":\n",
        "\n",
        "    main()  # Runs the program when executed.\n",
        "\n",
        "\n",
        "Summary**\n",
        "--------------------------------------------------------\n",
        "1. Loads the dataset and extracts features.\n",
        "2. Splits data into training and testing sets.\n",
        "3. Implements a custom Linear Regression model.\n",
        "4. Uses gradient descent to optimize weights and bias.\n",
        "5. Predicts salaries and evaluates results.\n",
        "6. Visualizes the regression line with test data.\n",
        "\n",
        "\n",
        "**End of Explanation**\n",
        "\n"
      ],
      "metadata": {
        "id": "phGWAKxxal3Z"
      }
    },
    {
      "cell_type": "code",
      "source": [],
      "metadata": {
        "id": "I2qliyKAbKbO"
      },
      "execution_count": null,
      "outputs": []
    }
  ]
}